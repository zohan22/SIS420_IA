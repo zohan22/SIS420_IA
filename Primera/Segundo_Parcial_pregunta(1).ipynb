{
  "cells": [
    {
      "cell_type": "markdown",
      "source": [
        "EN la pregunta se utilizo la funncion para adaptar los datos con csv pasando por parametro el dataset original, las columnas a modificar y adaptar, las columnas a eliminar se elimino la columna 0 que era fecha no lo vi conveniente para la prediccion despues otra funcion  para aumentar mas datos sinteticos, hasta llegar a 10000, de los cuales se contaban 1462, despues se procede con las demas funciones y sacamos el valor predicho. este cuadernillo es de clasificacion multiclase y use one vs all para poder clasificar y la regresion a usar es conjugation gradient con un lambda de 0.3\n",
        "nombre: SAMUEL DAYLER AMONZABEL GONZALES\n",
        "CARRERA: INGNEIERAI DE SISTEMAS PREGUNTA # 1"
      ],
      "metadata": {
        "id": "oEr9dtPOx0pW"
      }
    },
    {
      "cell_type": "code",
      "execution_count": 196,
      "metadata": {
        "id": "DIH5ifHK7BkY"
      },
      "outputs": [],
      "source": [
        "# utilizado para la manipulación de directorios y rutas\n",
        "import os\n",
        "\n",
        "# Cálculo científico y vectorial para python\n",
        "import numpy as np\n",
        "import pandas as pd\n",
        "\n",
        "# Libreria para graficos\n",
        "from matplotlib import pyplot\n",
        "\n",
        "# Modulo de optimizacion en scipy\n",
        "from scipy import optimize\n",
        "\n",
        "# modulo para cargar archivos en formato MATLAB\n",
        "from scipy.io import loadmat\n",
        "\n",
        "# le dice a matplotlib que incruste gráficos en el cuaderno\n",
        "%matplotlib inline"
      ]
    },
    {
      "cell_type": "code",
      "source": [
        "from google.colab import drive\n",
        "drive.mount('/content/drive')"
      ],
      "metadata": {
        "colab": {
          "base_uri": "https://localhost:8080/"
        },
        "id": "X1YMJVQfJgk5",
        "outputId": "fb88b48c-0329-4b08-80d3-11f20395c1a9"
      },
      "execution_count": 197,
      "outputs": [
        {
          "output_type": "stream",
          "name": "stdout",
          "text": [
            "Drive already mounted at /content/drive; to attempt to forcibly remount, call drive.mount(\"/content/drive\", force_remount=True).\n"
          ]
        }
      ]
    },
    {
      "cell_type": "code",
      "source": [
        "data = pd.read_csv('/content/drive/MyDrive/DataSets/seattle-weather.csv')\n",
        "print(data)"
      ],
      "metadata": {
        "colab": {
          "base_uri": "https://localhost:8080/"
        },
        "id": "avXDxjaId-JZ",
        "outputId": "3bb18542-59f6-4e3b-e034-93a0a8f5c1fb"
      },
      "execution_count": 198,
      "outputs": [
        {
          "output_type": "stream",
          "name": "stdout",
          "text": [
            "            date  precipitation  temp_max  temp_min  wind  weather\n",
            "0     2012-01-01            0.0      12.8       5.0   4.7  drizzle\n",
            "1     2012-01-02           10.9      10.6       2.8   4.5     rain\n",
            "2     2012-01-03            0.8      11.7       7.2   2.3     rain\n",
            "3     2012-01-04           20.3      12.2       5.6   4.7     rain\n",
            "4     2012-01-05            1.3       8.9       2.8   6.1     rain\n",
            "...          ...            ...       ...       ...   ...      ...\n",
            "1456  2015-12-27            8.6       4.4       1.7   2.9     rain\n",
            "1457  2015-12-28            1.5       5.0       1.7   1.3     rain\n",
            "1458  2015-12-29            0.0       7.2       0.6   2.6      fog\n",
            "1459  2015-12-30            0.0       5.6      -1.0   3.4      sun\n",
            "1460  2015-12-31            0.0       5.6      -2.1   3.5      sun\n",
            "\n",
            "[1461 rows x 6 columns]\n"
          ]
        }
      ]
    },
    {
      "cell_type": "code",
      "source": [
        "def csvAdapter(dataset,modificarColumnas,eliminarColumnas):\n",
        "    data =pd.read_csv(dataset,encoding='latin-1')\n",
        "    columna = data.columns #asignamos los nombres de columna a la variables columna\n",
        "\n",
        "    for index in modificarColumnas:\n",
        "        name = columna[index]\n",
        "        value = list(data[name].unique())#obetenemos todos lo valores unicos de cada columna\n",
        "        data[name] = data[name].map(dict(zip(value,[i for i in range(len(value))])))  \n",
        "    data = data.drop([columna[index]for index in eliminarColumnas],axis=1)#eliminamos las columnas   \n",
        "    data = data.dropna()#eliminamos las filas que contengan valores nulos\n",
        "    #data = pd.DataFrame(data, columns=columna)\n",
        "    #dataN = data.to_numpy()\n",
        "    print(data.head())\n",
        "    return data\n",
        "rutadataset='/content/drive/MyDrive/DataSets/seattle-weather.csv'\n",
        "columnaCategoricas = [i for i in range(0, 6)]\n",
        "eliminarColumnas=[0]\n",
        "data = csvAdapter(rutadataset, columnaCategoricas, eliminarColumnas)"
      ],
      "metadata": {
        "colab": {
          "base_uri": "https://localhost:8080/"
        },
        "id": "tuXKexmUQzXM",
        "outputId": "057bd7b8-6f0d-4a82-d758-2d41e42d0f81"
      },
      "execution_count": 199,
      "outputs": [
        {
          "output_type": "stream",
          "name": "stdout",
          "text": [
            "   precipitation  temp_max  temp_min  wind  weather\n",
            "0              0         0         0     0        0\n",
            "1              1         1         1     1        1\n",
            "2              2         2         2     2        1\n",
            "3              3         3         3     0        1\n",
            "4              4         4         1     3        1\n"
          ]
        }
      ]
    },
    {
      "cell_type": "code",
      "source": [
        "def generarDatosSinteticos(data):\n",
        "    # La cantidad de filas a generar los datos sisteticos son los faltantes a 10000\n",
        "    n_filas = 10000 - len(data)\n",
        "    nuevos_datos = np.empty([n_filas, len(data.columns)])\n",
        "    for i in range(len(data.columns)):\n",
        "        # Obtener la columna i del DataFrame de entrada\n",
        "        columna_i = data.iloc[:, i]\n",
        "        # Generar muestras aleatorias con reemplazo de la columna i\n",
        "        muestras_i = np.random.choice(columna_i, n_filas, replace=True)\n",
        "        # Asignar las muestras generadas a la columna i del arreglo de nuevos datos\n",
        "        nuevos_datos[:, i] = muestras_i\n",
        "    # Crear un DataFrame con los nuevos datos sintéticos\n",
        "    columnas = list(data.columns)\n",
        "    nuevos_datos_df = pd.DataFrame(nuevos_datos, columns=columnas)\n",
        "    # Concatenar los datos existentes con los nuevos datos sintéticos\n",
        "    nuevoDatos = pd.concat([data, nuevos_datos_df], axis=0)\n",
        "    # Devolver el DataFrame extendido como un arreglo NumPy\n",
        "    return nuevoDatos\n",
        "\n",
        "data = generarDatosSinteticos(data)\n",
        "print(len(data))"
      ],
      "metadata": {
        "colab": {
          "base_uri": "https://localhost:8080/"
        },
        "id": "4125cM77gr3y",
        "outputId": "447384a2-908f-4b2c-eebb-6b2ca427481a"
      },
      "execution_count": 200,
      "outputs": [
        {
          "output_type": "stream",
          "name": "stdout",
          "text": [
            "10000\n"
          ]
        }
      ]
    },
    {
      "cell_type": "code",
      "source": [
        "num_labels = 5\n",
        "data = data.to_numpy()\n",
        "X, y = data[:, 0:4], data[:, 4]\n",
        "m = y.size"
      ],
      "metadata": {
        "id": "hDywwWkHJ78I"
      },
      "execution_count": 201,
      "outputs": []
    },
    {
      "cell_type": "code",
      "source": [
        "print(X)\n",
        "print(y)"
      ],
      "metadata": {
        "id": "lun8pZzoJ9A4",
        "colab": {
          "base_uri": "https://localhost:8080/"
        },
        "outputId": "c0ecd368-192b-442c-8267-f2fb5e8fde70"
      },
      "execution_count": 202,
      "outputs": [
        {
          "output_type": "stream",
          "name": "stdout",
          "text": [
            "[[ 0.  0.  0.  0.]\n",
            " [ 1.  1.  1.  1.]\n",
            " [ 2.  2.  2.  2.]\n",
            " ...\n",
            " [ 0. 27. 15. 29.]\n",
            " [ 0. 33.  0. 41.]\n",
            " [ 0.  4. 27.  8.]]\n",
            "[0. 1. 1. ... 4. 2. 1.]\n"
          ]
        }
      ]
    },
    {
      "cell_type": "code",
      "source": [
        "def displayData(X, example_width=None, figsize=(10, 10)):\n",
        "    \"\"\"\n",
        "    Muestra datos 2D almacenados en X en una cuadrícula apropiada.\n",
        "    \"\"\"\n",
        "    # Calcula filas, columnas\n",
        "    if X.ndim == 2:\n",
        "        m, n = X.shape\n",
        "    elif X.ndim == 1:\n",
        "        n = X.size\n",
        "        m = 1\n",
        "        X = X[None]  # Promocionar a una matriz bidimensional\n",
        "    else:\n",
        "        raise IndexError('La entrada X debe ser 1 o 2 dimensinal.')\n",
        "\n",
        "    example_width = example_width or int(np.round(np.sqrt(n)))\n",
        "    example_height = n / example_width\n",
        "\n",
        "    # Calcula el numero de elementos a mostrar\n",
        "    display_rows = int(np.floor(np.sqrt(m)))\n",
        "    display_cols = int(np.ceil(m / display_rows))\n",
        "\n",
        "    fig, ax_array = pyplot.subplots(display_rows, display_cols, figsize=figsize)\n",
        "    fig.subplots_adjust(wspace=0.025, hspace=0.025)\n",
        "\n",
        "    ax_array = [ax_array] if m == 1 else ax_array.ravel()\n",
        "\n",
        "    for i, ax in enumerate(ax_array):\n",
        "        ax.imshow(X[i].reshape(example_width, example_width, order='F'),\n",
        "                  cmap='Greys', extent=[0, 1, 0, 1])\n",
        "        ax.axis('off')"
      ],
      "metadata": {
        "id": "VvdGwvkGT4xM"
      },
      "execution_count": 203,
      "outputs": []
    },
    {
      "cell_type": "code",
      "source": [
        "# valores de prueba para los parámetros theta\n",
        "theta_t = np.array([-2, -1, 1, 2], dtype=float)\n",
        "\n",
        "# valores de prueba para las entradas\n",
        "X_t = np.concatenate([np.ones((5, 1)), np.arange(1, 16).reshape(5, 3, order='F')/10.0], axis=1)\n",
        "print(X_t)\n",
        "# valores de testeo para las etiquetas\n",
        "y_t = np.array([1, 0, 1, 0, 1])\n",
        "\n",
        "# valores de testeo para el parametro de regularizacion\n",
        "lambda_t = 3"
      ],
      "metadata": {
        "id": "_kEr4msmT6qg",
        "colab": {
          "base_uri": "https://localhost:8080/"
        },
        "outputId": "6b295e4d-fa9b-4b23-b3d6-79b7f24c7c19"
      },
      "execution_count": 204,
      "outputs": [
        {
          "output_type": "stream",
          "name": "stdout",
          "text": [
            "[[1.  0.1 0.6 1.1]\n",
            " [1.  0.2 0.7 1.2]\n",
            " [1.  0.3 0.8 1.3]\n",
            " [1.  0.4 0.9 1.4]\n",
            " [1.  0.5 1.  1.5]]\n"
          ]
        }
      ]
    },
    {
      "cell_type": "code",
      "execution_count": 205,
      "metadata": {
        "id": "4NNUu0W_7Bkc"
      },
      "outputs": [],
      "source": [
        "def sigmoid(z):\n",
        "    \"\"\"\n",
        "    Calcula la sigmoide de z.\n",
        "    \"\"\"\n",
        "    return 1.0 / (1.0 + np.exp(-z))"
      ]
    },
    {
      "cell_type": "code",
      "source": [
        "h = sigmoid(0)\n",
        "print(h)"
      ],
      "metadata": {
        "id": "MgG-g8cCMreM",
        "colab": {
          "base_uri": "https://localhost:8080/"
        },
        "outputId": "36318ece-6a7b-45a0-f8e0-ab29b8dd42ca"
      },
      "execution_count": 206,
      "outputs": [
        {
          "output_type": "stream",
          "name": "stdout",
          "text": [
            "0.5\n"
          ]
        }
      ]
    },
    {
      "cell_type": "code",
      "execution_count": 207,
      "metadata": {
        "id": "yXmhPqvN7Bkc"
      },
      "outputs": [],
      "source": [
        "def lrCostFunction(theta, X, y, lambda_):\n",
        "    \"\"\"\n",
        "    Calcula el costo de usar theta como parámetro para la regresión logística regularizada y \n",
        "    el gradiente del costo w.r.t. a los parámetros.\n",
        "    \n",
        "    Parametros\n",
        "    ----------\n",
        "    theta : array_like\n",
        "        Parametro theta de la regresion logistica. Vector de la forma(shape) (n, ). n es el numero de caracteristicas \n",
        "        incluida la intercepcion\n",
        "        \n",
        "    X : array_like\n",
        "        Dataset con la forma(shape) (m x n). m es el numero de ejemplos, y n es el numero de \n",
        "        caracteristicas (incluida la intercepcion).\n",
        "    \n",
        "    y : array_like\n",
        "        El conjunto de etiquetas. Un vector con la forma (shape) (m, ). m es el numero de ejemplos\n",
        "    \n",
        "    lambda_ : float\n",
        "        Parametro de regularización. \n",
        "    \n",
        "    Devuelve\n",
        "    -------\n",
        "    J : float\n",
        "        El valor calculado para la funcion de costo regularizada. \n",
        "    \n",
        "    grad : array_like\n",
        "        Un vector de la forma (shape) (n, ) que es el gradiente de la \n",
        "        función de costo con respecto a theta, en los valores actuales de theta..\n",
        "    \"\"\"\n",
        "    # Inicializa algunos valores utiles\n",
        "    m = y.size\n",
        "    \n",
        "    # convierte las etiquetas a valores enteros si son boleanos\n",
        "    if y.dtype == bool:\n",
        "        y = y.astype(int)\n",
        "    \n",
        "    J = 0\n",
        "    grad = np.zeros(theta.shape)\n",
        "    \n",
        "    h = sigmoid(X.dot(theta.T))\n",
        "    \n",
        "    temp = theta\n",
        "    temp[0] = 0\n",
        "    \n",
        "    J = (1 / m) * np.sum(-y.dot(np.log(h)) - (1 - y).dot(np.log(1 - h))) + (lambda_ / (2 * m)) * np.sum(np.square(temp))\n",
        "    \n",
        "    grad = (1 / m) * (h - y).dot(X) \n",
        "    grad = grad + (lambda_ / m) * temp\n",
        "\n",
        "    return J, grad"
      ]
    },
    {
      "cell_type": "code",
      "source": [
        "J, grad = lrCostFunction(theta_t, X_t, y_t, lambda_t)\n",
        "\n",
        "print('Costo         : {:.6f}'.format(J))\n",
        "print('Costo esperadot: 2.534819')\n",
        "print('-----------------------')\n",
        "print('Gradientes:')\n",
        "print(' [{:.6f}, {:.6f}, {:.6f}, {:.6f}]'.format(*grad))\n",
        "print('Gradientes esperados:')\n",
        "print(' [0.146561, -0.548558, 0.724722, 1.398003]');"
      ],
      "metadata": {
        "id": "d4I3MbYKTYQQ",
        "colab": {
          "base_uri": "https://localhost:8080/"
        },
        "outputId": "4f586e96-69ca-4559-d957-61da791f0fe7"
      },
      "execution_count": 208,
      "outputs": [
        {
          "output_type": "stream",
          "name": "stdout",
          "text": [
            "Costo         : 2.534819\n",
            "Costo esperadot: 2.534819\n",
            "-----------------------\n",
            "Gradientes:\n",
            " [0.146561, -0.548558, 0.724722, 1.398003]\n",
            "Gradientes esperados:\n",
            " [0.146561, -0.548558, 0.724722, 1.398003]\n"
          ]
        }
      ]
    },
    {
      "cell_type": "code",
      "execution_count": 209,
      "metadata": {
        "id": "S-mO8HCW7Bkc"
      },
      "outputs": [],
      "source": [
        "def oneVsAll(X, y, num_labels, lambda_):\n",
        "    # algunas variables utiles\n",
        "    m, n = X.shape\n",
        "    \n",
        "    all_theta = np.zeros((num_labels, n + 1))\n",
        "\n",
        "    # Agrega unos a la matriz X\n",
        "    X = np.concatenate([np.ones((m, 1)), X], axis=1)\n",
        "\n",
        "    for c in np.arange(num_labels):\n",
        "        initial_theta = np.zeros(n + 1)\n",
        "        options = {'maxiter': 5000}\n",
        "        res = optimize.minimize(lrCostFunction, \n",
        "                                initial_theta, \n",
        "                                (X, (y == c), lambda_), \n",
        "                                jac=True, \n",
        "                                method='CG',\n",
        "                                options=options) \n",
        "        \n",
        "        all_theta[c] = res.x\n",
        "\n",
        "    return all_theta"
      ]
    },
    {
      "cell_type": "code",
      "execution_count": 210,
      "metadata": {
        "id": "HnG0Qunb7Bkd",
        "colab": {
          "base_uri": "https://localhost:8080/"
        },
        "outputId": "03b86659-392d-4949-e88d-d606b3186710"
      },
      "outputs": [
        {
          "output_type": "stream",
          "name": "stdout",
          "text": [
            "(5, 5)\n"
          ]
        },
        {
          "output_type": "execute_result",
          "data": {
            "text/plain": [
              "array([[-3.17212840e+00, -8.85156420e-03,  1.61027998e-03,\n",
              "        -5.19258256e-03,  2.35229598e-03],\n",
              "       [-9.91238360e-02,  7.99811675e-03, -5.19665918e-03,\n",
              "        -6.27782157e-03,  6.02615686e-04],\n",
              "       [-4.27360458e-01, -6.78814369e-03,  5.03115338e-03,\n",
              "         7.71989335e-03, -7.83607090e-04],\n",
              "       [-3.80117415e+00,  1.19710673e-03, -2.73942363e-03,\n",
              "        -7.61208221e-03, -6.96616343e-04],\n",
              "       [-2.59948478e+00, -2.03935215e-03,  4.40574071e-04,\n",
              "        -6.42284363e-04, -4.52991278e-04]])"
            ]
          },
          "metadata": {},
          "execution_count": 210
        }
      ],
      "source": [
        "lambda_ = 0.3\n",
        "all_theta = oneVsAll(X, y, num_labels, lambda_)\n",
        "print(all_theta.shape)\n",
        "all_theta"
      ]
    },
    {
      "cell_type": "code",
      "execution_count": 211,
      "metadata": {
        "id": "oUOwCbkm7Bkd"
      },
      "outputs": [],
      "source": [
        "def predictOneVsAll(all_theta, X):\n",
        "    m = X.shape[0];\n",
        "    num_labels = all_theta.shape[0]\n",
        "\n",
        "    p = np.zeros(m)\n",
        "\n",
        "    # Add ones to the X data matrix\n",
        "    X = np.concatenate([np.ones((m, 1)), X], axis=1)\n",
        "    p = np.argmax(sigmoid(X.dot(all_theta.T)), axis = 1)\n",
        "\n",
        "    return p"
      ]
    },
    {
      "cell_type": "code",
      "source": [
        "def clima(clave):\n",
        "    clima = {\n",
        "        1: 'Sol',\n",
        "        2: 'Lluvia',\n",
        "        3: 'Llovizna',\n",
        "        4: 'Nieve',\n",
        "        5: 'Niebla'\n",
        "    }\n",
        "    \n",
        "    estado = clima.get(clave)\n",
        "    \n",
        "    if estado:\n",
        "        return estado\n",
        "    else:\n",
        "        return 'Estado del clima desconocido'"
      ],
      "metadata": {
        "id": "J4-BBfubjsvj"
      },
      "execution_count": 212,
      "outputs": []
    },
    {
      "cell_type": "code",
      "execution_count": 216,
      "metadata": {
        "id": "X2Z8pbir7Bkd",
        "colab": {
          "base_uri": "https://localhost:8080/"
        },
        "outputId": "66676bc2-e7c4-4329-f847-1fa450e885ae"
      },
      "outputs": [
        {
          "output_type": "stream",
          "name": "stdout",
          "text": [
            "(10000, 4)\n",
            "Precision del conjuto de entrenamiento: 47.48%\n",
            "(1, 4)\n",
            "[[ 0.  7. 43.  8.]]\n",
            "(1, 5)\n",
            "[2]\n",
            "La prueba es:  Lluvia\n"
          ]
        }
      ],
      "source": [
        "print(X.shape)\n",
        "pred = predictOneVsAll(all_theta, X)\n",
        "print('Precision del conjuto de entrenamiento: {:.2f}%'.format(np.mean(pred == y) * 100))\n",
        "XPrueba = X[7500:7501, :].copy()\n",
        "print(XPrueba.shape)\n",
        "print(XPrueba)\n",
        "XPrueba = np.concatenate([np.ones((1, 1)), XPrueba], axis=1)\n",
        "print(XPrueba.shape)\n",
        "p = np.argmax(sigmoid(XPrueba.dot(all_theta.T)), axis = 1)\n",
        "print(p)\n",
        "print(\"La prueba es: \", clima(p[0]))\n",
        "\n",
        "\n"
      ]
    }
  ],
  "metadata": {
    "kernelspec": {
      "display_name": "Python 3",
      "language": "python",
      "name": "python3"
    },
    "language_info": {
      "codemirror_mode": {
        "name": "ipython",
        "version": 3
      },
      "file_extension": ".py",
      "mimetype": "text/x-python",
      "name": "python",
      "nbconvert_exporter": "python",
      "pygments_lexer": "ipython3",
      "version": "3.8.8"
    },
    "colab": {
      "provenance": []
    }
  },
  "nbformat": 4,
  "nbformat_minor": 0
}