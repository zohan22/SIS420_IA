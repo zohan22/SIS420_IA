{
  "cells": [
    {
      "cell_type": "code",
      "execution_count": 60,
      "metadata": {
        "id": "DIH5ifHK7BkY"
      },
      "outputs": [],
      "source": [
        "# utilizado para la manipulación de directorios y rutas\n",
        "import os\n",
        "\n",
        "# Cálculo científico y vectorial para python\n",
        "import numpy as np\n",
        "import pandas as pd\n",
        "\n",
        "# Libreria para graficos\n",
        "from matplotlib import pyplot\n",
        "\n",
        "# Modulo de optimizacion en scipy\n",
        "from scipy import optimize\n",
        "\n",
        "# modulo para cargar archivos en formato MATLAB\n",
        "from scipy.io import loadmat\n",
        "\n",
        "# le dice a matplotlib que incruste gráficos en el cuaderno\n",
        "%matplotlib inline"
      ]
    },
    {
      "cell_type": "code",
      "source": [
        "from google.colab import drive\n",
        "drive.mount('/content/drive')"
      ],
      "metadata": {
        "colab": {
          "base_uri": "https://localhost:8080/"
        },
        "id": "X1YMJVQfJgk5",
        "outputId": "d19774b5-1d2c-4914-dd88-f4949b5c0185"
      },
      "execution_count": 61,
      "outputs": [
        {
          "output_type": "stream",
          "name": "stdout",
          "text": [
            "Drive already mounted at /content/drive; to attempt to forcibly remount, call drive.mount(\"/content/drive\", force_remount=True).\n"
          ]
        }
      ]
    },
    {
      "cell_type": "code",
      "source": [
        "def csvAdapter(dataset,modificarColumnas,eliminarColumnas):\n",
        "    data =pd.read_csv(dataset,encoding='latin-1')#lee y carga el archivo del data set a la variable data\n",
        "    columna = data.columns #asignamos los nombres de columna a la variables columna\n",
        "\n",
        "    for index in modificarColumnas:\n",
        "        name = columna[index]\n",
        "        value = list(data[name].unique())#obetenemos todos lo valores unicos de cada columna\n",
        "        data[name] = data[name].map(dict(zip(value,[i for i in range(len(value))]))) #aqui es donde hacemos el tratamiento de datos donde a cada valor unico aiganmos un indice, indice que es numerico ejm 0=femenino, 1=masculino  \n",
        "    data = data.drop([columna[index]for index in eliminarColumnas],axis=1)#eliminamos las columnas que no interesan en la resolucion o prediccion del problema   \n",
        "    data = data.dropna()#eliminamos las filas que contengan valores nulos\n",
        "    #data = pd.DataFrame(data, columns=columna)\n",
        "    #dataN = data.to_numpy()\n",
        "    print(data.head())\n",
        "    return data\n",
        "rutadataset='/content/drive/MyDrive/DataSets/seattle-weather.csv'\n",
        "columnaCategoricas = [i for i in range(0, 6)]# poner columnas que no son categoricas o no interesan enla prediccionn\n",
        "eliminarColumnas=[0]#columnas a eliminar\n",
        "data = csvAdapter(rutadataset, columnaCategoricas, eliminarColumnas)"
      ],
      "metadata": {
        "colab": {
          "base_uri": "https://localhost:8080/"
        },
        "id": "tuXKexmUQzXM",
        "outputId": "a74edcac-ea79-4535-a787-31e814e2c931"
      },
      "execution_count": 62,
      "outputs": [
        {
          "output_type": "stream",
          "name": "stdout",
          "text": [
            "   precipitation  temp_max  temp_min  wind  weather\n",
            "0              0         0         0     0        0\n",
            "1              1         1         1     1        1\n",
            "2              2         2         2     2        1\n",
            "3              3         3         3     0        1\n",
            "4              4         4         1     3        1\n"
          ]
        }
      ]
    },
    {
      "cell_type": "code",
      "execution_count": 63,
      "metadata": {
        "id": "vUQYzQmR7Bka",
        "outputId": "f5718332-4f1d-4580-d717-e95ae8e60738",
        "colab": {
          "base_uri": "https://localhost:8080/"
        }
      },
      "outputs": [
        {
          "output_type": "stream",
          "name": "stdout",
          "text": [
            "      precipitation  temp_max  temp_min  wind  weather\n",
            "9995            0.0      17.0      16.0  25.0      1.0\n",
            "9996            0.0       3.0      16.0   5.0      1.0\n",
            "9997            0.0      17.0       5.0  26.0      1.0\n",
            "9998            0.0       8.0      26.0  49.0      4.0\n",
            "9999           25.0      47.0      16.0  14.0      2.0\n"
          ]
        },
        {
          "output_type": "execute_result",
          "data": {
            "text/plain": [
              "57305"
            ]
          },
          "metadata": {},
          "execution_count": 63
        }
      ],
      "source": [
        "def DatosSinteticos(data):\n",
        "    n_Filas = 10000\n",
        "    datosNuevos = np.empty([n_Filas, len(data.columns)])#creamos una matriz vacia con 10000 fila y las cantidad de columnas existentes en el dataset\n",
        "    \n",
        "    for i in range(len(data.columns)):\n",
        "        columna_i = data.iloc[:,i]\n",
        "        muestras_i = np.random.choice(columna_i,n_Filas, replace=True)#generar los numeros aleatorio dependiendo de la muetra tomada, replace \n",
        "        datosNuevos[:,i] = muestras_i.round()#redondeamos las muestras para trabajar de mejor manera                           #replace indica si las muestras pueden o no repetirse \n",
        "    columnas = list(data.columns) #crea una lista de los nombres de columnas\n",
        "    datosNuevos_df = pd.DataFrame(datosNuevos, columns=columnas) #crea un nuevo data frame \n",
        "\n",
        "    dataExtend = pd.concat([data, datosNuevos_df], axis=0)#concatena el data con los datos sinteticos creados\n",
        "    print(dataExtend.tail())\n",
        "    return dataExtend\n",
        "\n",
        "data = DatosSinteticos(data)\n",
        "data.size"
      ]
    },
    {
      "cell_type": "code",
      "source": [
        "num_labels = 4\n",
        "data = data.to_numpy()\n",
        "X, y = data[:7000, 0:4], data[:7000, 4]\n",
        "m = y.size"
      ],
      "metadata": {
        "id": "hDywwWkHJ78I"
      },
      "execution_count": 64,
      "outputs": []
    },
    {
      "cell_type": "code",
      "source": [
        "print(X)\n",
        "print(y)"
      ],
      "metadata": {
        "colab": {
          "base_uri": "https://localhost:8080/"
        },
        "id": "lun8pZzoJ9A4",
        "outputId": "28a463ac-6698-4a2c-8c6f-4dfbb2f7e207"
      },
      "execution_count": 65,
      "outputs": [
        {
          "output_type": "stream",
          "name": "stdout",
          "text": [
            "[[ 0.  0.  0.  0.]\n",
            " [ 1.  1.  1.  1.]\n",
            " [ 2.  2.  2.  2.]\n",
            " ...\n",
            " [ 0.  4. 16.  6.]\n",
            " [15.  6. 27. 19.]\n",
            " [49. 19. 24. 22.]]\n",
            "[0. 1. 1. ... 2. 1. 1.]\n"
          ]
        }
      ]
    },
    {
      "cell_type": "code",
      "source": [
        "def displayData(X, example_width=None, figsize=(10, 10)):\n",
        "    \"\"\"\n",
        "    Muestra datos 2D almacenados en X en una cuadrícula apropiada.\n",
        "    \"\"\"\n",
        "    # Calcula filas, columnas\n",
        "    if X.ndim == 2:\n",
        "        m, n = X.shape\n",
        "    elif X.ndim == 1:\n",
        "        n = X.size\n",
        "        m = 1\n",
        "        X = X[None]  # Promocionar a una matriz bidimensional\n",
        "    else:\n",
        "        raise IndexError('La entrada X debe ser 1 o 2 dimensinal.')\n",
        "\n",
        "    example_width = example_width or int(np.round(np.sqrt(n)))\n",
        "    example_height = n / example_width\n",
        "\n",
        "    # Calcula el numero de elementos a mostrar\n",
        "    display_rows = int(np.floor(np.sqrt(m)))\n",
        "    display_cols = int(np.ceil(m / display_rows))\n",
        "\n",
        "    fig, ax_array = pyplot.subplots(display_rows, display_cols, figsize=figsize)\n",
        "    fig.subplots_adjust(wspace=0.025, hspace=0.025)\n",
        "\n",
        "    ax_array = [ax_array] if m == 1 else ax_array.ravel()\n",
        "\n",
        "    for i, ax in enumerate(ax_array):\n",
        "        ax.imshow(X[i].reshape(example_width, example_width, order='F'),\n",
        "                  cmap='Greys', extent=[0, 1, 0, 1])\n",
        "        ax.axis('off')"
      ],
      "metadata": {
        "id": "VvdGwvkGT4xM"
      },
      "execution_count": 66,
      "outputs": []
    },
    {
      "cell_type": "code",
      "source": [
        "# valores de prueba para los parámetros theta\n",
        "theta_t = np.array([-2, -1, 1, 2], dtype=float)\n",
        "\n",
        "# valores de prueba para las entradas\n",
        "X_t = np.concatenate([np.ones((5, 1)), np.arange(1, 16).reshape(5, 3, order='F')/10.0], axis=1)\n",
        "print(X_t)\n",
        "# valores de testeo para las etiquetas\n",
        "y_t = np.array([1, 0, 1, 0, 1])\n",
        "\n",
        "# valores de testeo para el parametro de regularizacion\n",
        "lambda_t = 3"
      ],
      "metadata": {
        "colab": {
          "base_uri": "https://localhost:8080/"
        },
        "id": "_kEr4msmT6qg",
        "outputId": "60c34030-6cf4-4f96-de87-6a030e6262f9"
      },
      "execution_count": 67,
      "outputs": [
        {
          "output_type": "stream",
          "name": "stdout",
          "text": [
            "[[1.  0.1 0.6 1.1]\n",
            " [1.  0.2 0.7 1.2]\n",
            " [1.  0.3 0.8 1.3]\n",
            " [1.  0.4 0.9 1.4]\n",
            " [1.  0.5 1.  1.5]]\n"
          ]
        }
      ]
    },
    {
      "cell_type": "code",
      "execution_count": 68,
      "metadata": {
        "id": "4NNUu0W_7Bkc"
      },
      "outputs": [],
      "source": [
        "def sigmoid(z):\n",
        "    \"\"\"\n",
        "    Calcula la sigmoide de z.\n",
        "    \"\"\"\n",
        "    return 1.0 / (1.0 + np.exp(-z))"
      ]
    },
    {
      "cell_type": "code",
      "source": [
        "h = sigmoid(0)\n",
        "print(h)"
      ],
      "metadata": {
        "colab": {
          "base_uri": "https://localhost:8080/"
        },
        "id": "MgG-g8cCMreM",
        "outputId": "c8aafb0c-515a-4c6f-a0bd-f77f220259db"
      },
      "execution_count": 69,
      "outputs": [
        {
          "output_type": "stream",
          "name": "stdout",
          "text": [
            "0.5\n"
          ]
        }
      ]
    },
    {
      "cell_type": "code",
      "execution_count": 70,
      "metadata": {
        "id": "yXmhPqvN7Bkc"
      },
      "outputs": [],
      "source": [
        "def lrCostFunction(theta, X, y, lambda_):\n",
        "    \"\"\"\n",
        "    Calcula el costo de usar theta como parámetro para la regresión logística regularizada y \n",
        "    el gradiente del costo w.r.t. a los parámetros.\n",
        "    \n",
        "    Parametros\n",
        "    ----------\n",
        "    theta : array_like\n",
        "        Parametro theta de la regresion logistica. Vector de la forma(shape) (n, ). n es el numero de caracteristicas \n",
        "        incluida la intercepcion\n",
        "        \n",
        "    X : array_like\n",
        "        Dataset con la forma(shape) (m x n). m es el numero de ejemplos, y n es el numero de \n",
        "        caracteristicas (incluida la intercepcion).\n",
        "    \n",
        "    y : array_like\n",
        "        El conjunto de etiquetas. Un vector con la forma (shape) (m, ). m es el numero de ejemplos\n",
        "    \n",
        "    lambda_ : float\n",
        "        Parametro de regularización. \n",
        "    \n",
        "    Devuelve\n",
        "    -------\n",
        "    J : float\n",
        "        El valor calculado para la funcion de costo regularizada. \n",
        "    \n",
        "    grad : array_like\n",
        "        Un vector de la forma (shape) (n, ) que es el gradiente de la \n",
        "        función de costo con respecto a theta, en los valores actuales de theta..\n",
        "    \"\"\"\n",
        "    # Inicializa algunos valores utiles\n",
        "    m = y.size\n",
        "    \n",
        "    # convierte las etiquetas a valores enteros si son boleanos\n",
        "    if y.dtype == bool:\n",
        "        y = y.astype(int)\n",
        "    \n",
        "    J = 0\n",
        "    grad = np.zeros(theta.shape)\n",
        "    \n",
        "    h = sigmoid(X.dot(theta.T))\n",
        "    \n",
        "    temp = theta\n",
        "    temp[0] = 0\n",
        "    \n",
        "    J = (1 / m) * np.sum(-y.dot(np.log(h)) - (1 - y).dot(np.log(1 - h))) + (lambda_ / (2 * m)) * np.sum(np.square(temp))\n",
        "    \n",
        "    grad = (1 / m) * (h - y).dot(X) \n",
        "    grad = grad + (lambda_ / m) * temp\n",
        "\n",
        "    return J, grad"
      ]
    },
    {
      "cell_type": "code",
      "source": [
        "J, grad = lrCostFunction(theta_t, X_t, y_t, lambda_t)\n",
        "\n",
        "print('Costo         : {:.6f}'.format(J))\n",
        "print('Costo esperadot: 2.534819')\n",
        "print('-----------------------')\n",
        "print('Gradientes:')\n",
        "print(' [{:.6f}, {:.6f}, {:.6f}, {:.6f}]'.format(*grad))\n",
        "print('Gradientes esperados:')\n",
        "print(' [0.146561, -0.548558, 0.724722, 1.398003]');"
      ],
      "metadata": {
        "colab": {
          "base_uri": "https://localhost:8080/"
        },
        "id": "d4I3MbYKTYQQ",
        "outputId": "5c1a509a-a8f0-40a1-d98c-00743a3a0d4c"
      },
      "execution_count": 71,
      "outputs": [
        {
          "output_type": "stream",
          "name": "stdout",
          "text": [
            "Costo         : 2.534819\n",
            "Costo esperadot: 2.534819\n",
            "-----------------------\n",
            "Gradientes:\n",
            " [0.146561, -0.548558, 0.724722, 1.398003]\n",
            "Gradientes esperados:\n",
            " [0.146561, -0.548558, 0.724722, 1.398003]\n"
          ]
        }
      ]
    },
    {
      "cell_type": "code",
      "execution_count": 87,
      "metadata": {
        "id": "S-mO8HCW7Bkc"
      },
      "outputs": [],
      "source": [
        "def oneVsAll(X, y, num_labels, lambda_):\n",
        "    # algunas variables utiles\n",
        "    m, n = X.shape\n",
        "    \n",
        "    all_theta = np.zeros((num_labels, n + 1))\n",
        "\n",
        "    # Agrega unos a la matriz X\n",
        "    X = np.concatenate([np.ones((m, 1)), X], axis=1)\n",
        "\n",
        "    for c in np.arange(num_labels):\n",
        "        initial_theta = np.zeros(n + 1)\n",
        "        options = {'maxiter': 100}\n",
        "        res = optimize.minimize(lrCostFunction, \n",
        "                                initial_theta, \n",
        "                                (X, (y == c), lambda_), \n",
        "                                jac=True, \n",
        "                                method='CG',\n",
        "                                options=options) \n",
        "        \n",
        "        all_theta[c] = res.x\n",
        "\n",
        "    return all_theta"
      ]
    },
    {
      "cell_type": "code",
      "execution_count": 89,
      "metadata": {
        "id": "HnG0Qunb7Bkd",
        "colab": {
          "base_uri": "https://localhost:8080/"
        },
        "outputId": "4d614805-6fae-4d6f-d691-46e54da89778"
      },
      "outputs": [
        {
          "output_type": "stream",
          "name": "stdout",
          "text": [
            "(4, 5)\n"
          ]
        },
        {
          "output_type": "execute_result",
          "data": {
            "text/plain": [
              "array([[-3.25125202e+00, -9.55571192e-03,  6.66204896e-03,\n",
              "        -3.87545061e-03,  1.18359204e-03],\n",
              "       [-1.96042675e-01,  1.12338236e-02, -6.86176567e-03,\n",
              "        -5.96284800e-03,  1.74245957e-03],\n",
              "       [-4.14071830e-01, -8.99559692e-03,  8.02146021e-03,\n",
              "         8.43214066e-03, -2.12358780e-03],\n",
              "       [-3.21606032e+00,  2.41620081e-03, -1.81769364e-02,\n",
              "        -2.29045503e-02, -2.66732625e-03]])"
            ]
          },
          "metadata": {},
          "execution_count": 89
        }
      ],
      "source": [
        "lambda_ = 0.001\n",
        "all_theta = oneVsAll(X, y, num_labels, lambda_)\n",
        "print(all_theta.shape)\n",
        "all_theta"
      ]
    },
    {
      "cell_type": "code",
      "execution_count": 90,
      "metadata": {
        "id": "oUOwCbkm7Bkd"
      },
      "outputs": [],
      "source": [
        "def predictOneVsAll(all_theta, X):\n",
        "    m = X.shape[0];\n",
        "    num_labels = all_theta.shape[0]\n",
        "\n",
        "    p = np.zeros(m)\n",
        "\n",
        "    # Add ones to the X data matrix\n",
        "    X = np.concatenate([np.ones((m, 1)), X], axis=1)\n",
        "    p = np.argmax(sigmoid(X.dot(all_theta.T)), axis = 1)\n",
        "\n",
        "    return p"
      ]
    },
    {
      "cell_type": "code",
      "execution_count": 96,
      "metadata": {
        "id": "X2Z8pbir7Bkd",
        "outputId": "4b15f57c-2a04-407b-bf60-5e497edf606b",
        "colab": {
          "base_uri": "https://localhost:8080/"
        }
      },
      "outputs": [
        {
          "output_type": "stream",
          "name": "stdout",
          "text": [
            "(7000, 4)\n",
            "Precision del conjuto de entrenamiento: 49.77%\n",
            "(1, 4)\n",
            "[[15. 44.  0. 46.]]\n",
            "(1, 5)\n",
            "[1]\n"
          ]
        }
      ],
      "source": [
        "print(X.shape)\n",
        "pred = predictOneVsAll(all_theta, X)\n",
        "print('Precision del conjuto de entrenamiento: {:.2f}%'.format(np.mean(pred == y) * 100))\n",
        "XPrueba = X[5000:5001, :].copy()\n",
        "print(XPrueba.shape)\n",
        "print(XPrueba)\n",
        "XPrueba = np.concatenate([np.ones((1, 1)), XPrueba], axis=1)\n",
        "print(XPrueba.shape)\n",
        "p = np.argmax(sigmoid(XPrueba.dot(all_theta.T)), axis = 1)\n",
        "print(p)\n",
        "\n",
        "\n"
      ]
    }
  ],
  "metadata": {
    "kernelspec": {
      "display_name": "Python 3",
      "language": "python",
      "name": "python3"
    },
    "language_info": {
      "codemirror_mode": {
        "name": "ipython",
        "version": 3
      },
      "file_extension": ".py",
      "mimetype": "text/x-python",
      "name": "python",
      "nbconvert_exporter": "python",
      "pygments_lexer": "ipython3",
      "version": "3.8.8"
    },
    "colab": {
      "provenance": []
    }
  },
  "nbformat": 4,
  "nbformat_minor": 0
}