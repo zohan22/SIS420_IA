{
  "cells": [
    {
      "cell_type": "markdown",
      "source": [
        "<h1>EXAMEN FINAL - PREGUNTA #1</h1>\n",
        "<h3>\n",
        " Implementar un algoritmo genético, que resuelva un problema especifico que su persona considere suficiente para demostrar la utilidad e importancia de esta tecnología.\n",
        "</h3>\n",
        "<br>\n",
        "<h3>\n",
        "NOMBRE: SAMUEL DAYLER AMONZABEL GONZALES <br>\n",
        "CARRERA: INGENIERIA DE SISTEMAS <br>\n",
        "FECHA: 23/06/2023\n",
        "</h3>"
      ],
      "metadata": {
        "id": "EfdAbUC-bZ8A"
      }
    },
    {
      "cell_type": "code",
      "source": [
        "import random  # Importar el módulo random para operaciones aleatorias"
      ],
      "metadata": {
        "id": "onu3Omy3cAQl"
      },
      "execution_count": 1,
      "outputs": []
    },
    {
      "cell_type": "code",
      "source": [
        "class ProblemaGenetico:\n",
        "    def __init__(self, ciudades):\n",
        "        self.ciudades = ciudades  # Lista de ciudades\n",
        "\n",
        "    def generar_individuo(self):\n",
        "        individuo = list(self.ciudades.keys())  # Generar un individuo como una permutación de las ciudades\n",
        "        random.shuffle(individuo) # Mezclar aleatoriamente el orden de las ciudades\n",
        "        return individuo\n",
        "\n",
        "    def cruzar(self, padre1, padre2):\n",
        "        punto_corte = random.randint(1, len(padre1) - 1)  # Seleccionar un punto de corte aleatorio\n",
        "        # Generar los hijos combinando las partes de los padres\n",
        "        hijo1 = padre1[:punto_corte] + [c for c in padre2 if c not in padre1[:punto_corte]]\n",
        "        hijo2 = padre2[:punto_corte] + [c for c in padre1 if c not in padre2[:punto_corte]]\n",
        "        return hijo1, hijo2\n",
        "\n",
        "    def mutar(self, individuo):\n",
        "        idx1, idx2 = random.sample(range(len(individuo)), 2) # Seleccionar dos índices aleatorios para el intercambio\n",
        "        individuo_mutado = individuo.copy()\n",
        "        individuo_mutado[idx1], individuo_mutado[idx2] = individuo_mutado[idx2], individuo_mutado[idx1] # Seleccionar dos índices aleatorios para el intercambio\n",
        "        return individuo_mutado\n",
        "\n",
        "    def calcular_distancia_total(self, ruta):\n",
        "        distancia_total = 0\n",
        "        for i in range(1, len(ruta)):\n",
        "            ciudad_actual = ruta[i]\n",
        "            ciudad_anterior = ruta[i - 1]\n",
        "            distancia = self.ciudades[ciudad_anterior][ciudad_actual] # Obtener la distancia entre dos ciudades consecutivas\n",
        "            distancia_total += distancia\n",
        "        return distancia_total"
      ],
      "metadata": {
        "id": "8kPT7Q4uevXT"
      },
      "execution_count": 2,
      "outputs": []
    },
    {
      "cell_type": "code",
      "source": [
        "def generar_poblacion_inicial(problema_genetico, size):\n",
        "    poblacion = []\n",
        "    for _ in range(size):\n",
        "        individuo = problema_genetico.generar_individuo() # Generar un individuo aleatorio utilizando el método generar_individuo() del objeto problema_genetico\n",
        "        poblacion.append(individuo) # Agregar el individuo a la población\n",
        "    return poblacion"
      ],
      "metadata": {
        "id": "Ha-7ZLNhfADH"
      },
      "execution_count": 3,
      "outputs": []
    },
    {
      "cell_type": "code",
      "source": [
        "def seleccion_por_torneo(problema_genetico, poblacion, n, k, opt):\n",
        "    seleccionados = []\n",
        "    for _ in range(n):\n",
        "        participantes = random.sample(poblacion, k) # Seleccionar aleatoriamente \"k\" participantes de la población\n",
        "        seleccionado = opt(participantes, key=problema_genetico.calcular_distancia_total) # Seleccionar al mejor participante utilizando el criterio \"opt\" y la función de aptitud \"calcular_distancia_total\"\n",
        "        seleccionados.append(seleccionado) # Agregar al seleccionado a la lista de seleccionados\n",
        "    return seleccionados"
      ],
      "metadata": {
        "id": "rt1mhwuZfDmq"
      },
      "execution_count": 4,
      "outputs": []
    },
    {
      "cell_type": "code",
      "source": [
        "def nueva_generacion_t(problema_genetico, n_padres, opt, poblacion, k, n_descendientes, prob_mutar, num_generacion):\n",
        "    print(\"Generación:\", num_generacion)  # Imprimir el número de generación actual\n",
        "    padres = seleccion_por_torneo(problema_genetico, poblacion, n_padres, k, opt)  # Seleccionar los padres utilizando el método del torneo\n",
        "    descendientes = []\n",
        "    for i in range(0, len(padres)-1, 2):\n",
        "        p1 = padres[i]\n",
        "        p2 = padres[i+1]\n",
        "        hijos = problema_genetico.cruzar(p1, p2)  # Cruzar los padres para generar los hijos\n",
        "        for h in hijos:\n",
        "            if random.uniform(0, 1) < prob_mutar:  # Aplicar mutación con una probabilidad \"prob_mutar\"\n",
        "                h = problema_genetico.mutar(h)  # Mutar al hijo\n",
        "            descendientes.append(h)  # Agregar el hijo a la lista de descendientes\n",
        "    # Calcular y mostrar el fitness de los descendientes seleccionados\n",
        "    print(\"Fitness de los descendientes seleccionados:\")\n",
        "    for individuo in descendientes:\n",
        "        fitness = problema_genetico.calcular_distancia_total(individuo)\n",
        "        print(\"Individuo:\", individuo, \"Fitness:\", fitness)\n",
        "\n",
        "    return descendientes  # Devolver la lista de descendientes"
      ],
      "metadata": {
        "id": "71JVdkXhfGMa"
      },
      "execution_count": 5,
      "outputs": []
    },
    {
      "cell_type": "code",
      "source": [
        "def generar_ruta_optima(ciudades, distancias):\n",
        "    problema_genetico = ProblemaGenetico(ciudades) # Crear un objeto ProblemaGenetico con las ciudades proporcionadas\n",
        "\n",
        "\n",
        "    size = 5  # Tamaño de la población\n",
        "    n_generaciones = 10  # Número de generaciones\n",
        "    n_padres = 5  # Número de padres seleccionados\n",
        "    k_torneo = 4  # Tamaño del torneo de selección\n",
        "    prob_mutar = 0.1  # Probabilidad de mutación\n",
        "\n",
        "    poblacion = generar_poblacion_inicial(problema_genetico, size) # Generar una población inicial de individuos aleatorios\n",
        "    # Generar una nueva generación de individuos mediante la selección, cruzamiento y mutación\n",
        "    for i in range(n_generaciones):\n",
        "        poblacion = nueva_generacion_t(problema_genetico, n_padres, max, poblacion, k_torneo, size, prob_mutar, i+1)\n",
        "\n",
        "    mejor_ruta = max(poblacion, key=problema_genetico.calcular_distancia_total) # Obtener la mejor ruta de la población final\n",
        "    distancia_optima = problema_genetico.calcular_distancia_total(mejor_ruta)  # Calcular la distancia total de la mejor ruta\n",
        "    return mejor_ruta, distancia_optima"
      ],
      "metadata": {
        "id": "ig9nwiWtg-Sz"
      },
      "execution_count": 6,
      "outputs": []
    },
    {
      "cell_type": "code",
      "source": [
        "ciudades = {\n",
        "    'A': {'B': 10, 'C': 20, 'D': 30, 'E': 10},\n",
        "    'B': {'A': 10, 'C': 25, 'D': 35, 'E': 20},\n",
        "    'C': {'A': 20, 'B': 25, 'D': 15, 'E': 25},\n",
        "    'D': {'A': 30, 'B': 35, 'C': 15, 'E': 30},\n",
        "    'E': {'A': 25, 'B': 40, 'C': 18, 'D': 25}\n",
        "}\n",
        "ruta_optima, distancia_optima = generar_ruta_optima(ciudades, None)\n",
        "print(\"Ruta óptima:\", ruta_optima)\n",
        "print(\"Distancia óptima:\", distancia_optima)"
      ],
      "metadata": {
        "id": "bbIjBwQKfIur",
        "outputId": "2c95aae5-2117-4c7d-9fee-d8dc14789e31",
        "colab": {
          "base_uri": "https://localhost:8080/"
        }
      },
      "execution_count": 7,
      "outputs": [
        {
          "output_type": "stream",
          "name": "stdout",
          "text": [
            "Generación: 1\n",
            "Fitness de los descendientes seleccionados:\n",
            "Individuo: ['A', 'B', 'E', 'C', 'D'] Fitness: 63\n",
            "Individuo: ['E', 'A', 'C', 'B', 'D'] Fitness: 105\n",
            "Individuo: ['E', 'A', 'C', 'B', 'D'] Fitness: 105\n",
            "Individuo: ['E', 'A', 'C', 'B', 'D'] Fitness: 105\n",
            "Generación: 2\n",
            "Fitness de los descendientes seleccionados:\n",
            "Individuo: ['C', 'A', 'E', 'B', 'D'] Fitness: 105\n",
            "Individuo: ['E', 'A', 'C', 'B', 'D'] Fitness: 105\n",
            "Individuo: ['E', 'A', 'C', 'B', 'D'] Fitness: 105\n",
            "Individuo: ['E', 'A', 'C', 'B', 'D'] Fitness: 105\n",
            "Generación: 3\n",
            "Fitness de los descendientes seleccionados:\n",
            "Individuo: ['C', 'A', 'E', 'B', 'D'] Fitness: 105\n",
            "Individuo: ['C', 'A', 'E', 'B', 'D'] Fitness: 105\n",
            "Individuo: ['E', 'A', 'C', 'B', 'D'] Fitness: 105\n",
            "Individuo: ['E', 'A', 'C', 'B', 'D'] Fitness: 105\n",
            "Generación: 4\n",
            "Fitness de los descendientes seleccionados:\n",
            "Individuo: ['E', 'C', 'A', 'B', 'D'] Fitness: 83\n",
            "Individuo: ['C', 'E', 'A', 'B', 'D'] Fitness: 95\n",
            "Individuo: ['E', 'A', 'C', 'B', 'D'] Fitness: 105\n",
            "Individuo: ['E', 'A', 'C', 'B', 'D'] Fitness: 105\n",
            "Generación: 5\n",
            "Fitness de los descendientes seleccionados:\n",
            "Individuo: ['E', 'A', 'C', 'B', 'D'] Fitness: 105\n",
            "Individuo: ['E', 'A', 'C', 'B', 'D'] Fitness: 105\n",
            "Individuo: ['E', 'A', 'C', 'B', 'D'] Fitness: 105\n",
            "Individuo: ['E', 'A', 'C', 'B', 'D'] Fitness: 105\n",
            "Generación: 6\n",
            "Fitness de los descendientes seleccionados:\n",
            "Individuo: ['E', 'A', 'C', 'B', 'D'] Fitness: 105\n",
            "Individuo: ['E', 'A', 'C', 'B', 'D'] Fitness: 105\n",
            "Individuo: ['E', 'A', 'C', 'B', 'D'] Fitness: 105\n",
            "Individuo: ['E', 'A', 'C', 'B', 'D'] Fitness: 105\n",
            "Generación: 7\n",
            "Fitness de los descendientes seleccionados:\n",
            "Individuo: ['E', 'A', 'C', 'B', 'D'] Fitness: 105\n",
            "Individuo: ['E', 'A', 'C', 'B', 'D'] Fitness: 105\n",
            "Individuo: ['E', 'A', 'C', 'B', 'D'] Fitness: 105\n",
            "Individuo: ['E', 'A', 'C', 'B', 'D'] Fitness: 105\n",
            "Generación: 8\n",
            "Fitness de los descendientes seleccionados:\n",
            "Individuo: ['E', 'A', 'C', 'B', 'D'] Fitness: 105\n",
            "Individuo: ['E', 'A', 'C', 'B', 'D'] Fitness: 105\n",
            "Individuo: ['E', 'C', 'A', 'B', 'D'] Fitness: 83\n",
            "Individuo: ['E', 'A', 'C', 'B', 'D'] Fitness: 105\n",
            "Generación: 9\n",
            "Fitness de los descendientes seleccionados:\n",
            "Individuo: ['E', 'A', 'C', 'B', 'D'] Fitness: 105\n",
            "Individuo: ['E', 'A', 'C', 'B', 'D'] Fitness: 105\n",
            "Individuo: ['E', 'A', 'C', 'B', 'D'] Fitness: 105\n",
            "Individuo: ['E', 'A', 'C', 'B', 'D'] Fitness: 105\n",
            "Generación: 10\n",
            "Fitness de los descendientes seleccionados:\n",
            "Individuo: ['E', 'A', 'C', 'B', 'D'] Fitness: 105\n",
            "Individuo: ['E', 'A', 'C', 'B', 'D'] Fitness: 105\n",
            "Individuo: ['E', 'A', 'C', 'B', 'D'] Fitness: 105\n",
            "Individuo: ['E', 'A', 'C', 'B', 'D'] Fitness: 105\n",
            "Ruta óptima: ['E', 'A', 'C', 'B', 'D']\n",
            "Distancia óptima: 105\n"
          ]
        }
      ]
    }
  ],
  "metadata": {
    "colab": {
      "provenance": []
    },
    "kernelspec": {
      "display_name": "Python 3",
      "name": "python3"
    }
  },
  "nbformat": 4,
  "nbformat_minor": 0
}